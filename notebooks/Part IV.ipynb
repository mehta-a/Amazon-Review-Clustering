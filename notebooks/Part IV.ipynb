{
 "cells": [
  {
   "cell_type": "markdown",
   "metadata": {},
   "source": [
    "## Part IV\n",
    "#### In a Jupyter notebook, cluster the provided data (Clustering Data) using your k-means implementation. The data cannot be transformed in any way apart from mean-centering.\n",
    "\n",
    "- a) Assess the performance of this k-means implementation for this dataset\n",
    "- b) Discuss the performance and if there is scope for improvement, propose changes to your k-means implementation that would help improve results and explain why  "
   ]
  },
  {
   "cell_type": "code",
   "execution_count": 1,
   "metadata": {},
   "outputs": [],
   "source": [
    "# Bring your packages onto the path\n",
    "import sys, os\n",
    "sys.path.append(os.path.abspath(os.path.join('..', 'src')))\n",
    "\n",
    "# Now do your import\n",
    "from cluster import k_mean\n",
    "from vectorizer import create_TF_IDF_matrix\n",
    "\n",
    "#\n",
    "import numpy as np\n",
    "import pandas as pd"
   ]
  },
  {
   "cell_type": "code",
   "execution_count": 2,
   "metadata": {},
   "outputs": [],
   "source": [
    "# files in consideration\n",
    "cluster_file = '../data/Clustering Data/Clustering Data.csv'"
   ]
  },
  {
   "cell_type": "code",
   "execution_count": 3,
   "metadata": {},
   "outputs": [
    {
     "data": {
      "text/html": [
       "<div>\n",
       "<style scoped>\n",
       "    .dataframe tbody tr th:only-of-type {\n",
       "        vertical-align: middle;\n",
       "    }\n",
       "\n",
       "    .dataframe tbody tr th {\n",
       "        vertical-align: top;\n",
       "    }\n",
       "\n",
       "    .dataframe thead th {\n",
       "        text-align: right;\n",
       "    }\n",
       "</style>\n",
       "<table border=\"1\" class=\"dataframe\">\n",
       "  <thead>\n",
       "    <tr style=\"text-align: right;\">\n",
       "      <th></th>\n",
       "      <th>x</th>\n",
       "      <th>y</th>\n",
       "    </tr>\n",
       "  </thead>\n",
       "  <tbody>\n",
       "    <tr>\n",
       "      <th>0</th>\n",
       "      <td>0.861060</td>\n",
       "      <td>-2.901987</td>\n",
       "    </tr>\n",
       "    <tr>\n",
       "      <th>1</th>\n",
       "      <td>2.001065</td>\n",
       "      <td>1.758308</td>\n",
       "    </tr>\n",
       "    <tr>\n",
       "      <th>2</th>\n",
       "      <td>2.410364</td>\n",
       "      <td>-2.228633</td>\n",
       "    </tr>\n",
       "    <tr>\n",
       "      <th>3</th>\n",
       "      <td>2.782170</td>\n",
       "      <td>1.903969</td>\n",
       "    </tr>\n",
       "    <tr>\n",
       "      <th>4</th>\n",
       "      <td>-2.828327</td>\n",
       "      <td>-1.866036</td>\n",
       "    </tr>\n",
       "  </tbody>\n",
       "</table>\n",
       "</div>"
      ],
      "text/plain": [
       "          x         y\n",
       "0  0.861060 -2.901987\n",
       "1  2.001065  1.758308\n",
       "2  2.410364 -2.228633\n",
       "3  2.782170  1.903969\n",
       "4 -2.828327 -1.866036"
      ]
     },
     "execution_count": 3,
     "metadata": {},
     "output_type": "execute_result"
    }
   ],
   "source": [
    "cluster_df = pd.read_csv(cluster_file)\n",
    "cluster_df.drop(['Unnamed: 0'], axis=1, inplace=True)\n",
    "cluster_df.head()"
   ]
  },
  {
   "cell_type": "code",
   "execution_count": 4,
   "metadata": {},
   "outputs": [
    {
     "data": {
      "text/plain": [
       "array([[  0.86105976,  -2.90198673],\n",
       "       [  2.00106451,   1.75830797],\n",
       "       [  2.41036424,  -2.22863325],\n",
       "       ...,\n",
       "       [-12.19680076,  16.74698864],\n",
       "       [ -2.88521642, -16.84920754],\n",
       "       [-13.29186299,  15.04241967]])"
      ]
     },
     "execution_count": 4,
     "metadata": {},
     "output_type": "execute_result"
    }
   ],
   "source": [
    "mat = np.array(cluster_df)\n",
    "mat"
   ]
  },
  {
   "cell_type": "code",
   "execution_count": 5,
   "metadata": {},
   "outputs": [
    {
     "data": {
      "text/plain": [
       "(3000, 2)"
      ]
     },
     "execution_count": 5,
     "metadata": {},
     "output_type": "execute_result"
    }
   ],
   "source": [
    "mat.shape"
   ]
  },
  {
   "cell_type": "code",
   "execution_count": 6,
   "metadata": {},
   "outputs": [],
   "source": [
    "# Apply k means\n",
    "clusters, cluster_centroid = k_mean(mat, 2, 5)"
   ]
  },
  {
   "cell_type": "code",
   "execution_count": 7,
   "metadata": {},
   "outputs": [
    {
     "name": "stdout",
     "output_type": "stream",
     "text": [
      "1455 1545\n"
     ]
    }
   ],
   "source": [
    "print(len(clusters[0]), len(clusters[1]))"
   ]
  },
  {
   "cell_type": "markdown",
   "metadata": {},
   "source": [
    "## Lets Visualize"
   ]
  },
  {
   "cell_type": "code",
   "execution_count": 24,
   "metadata": {},
   "outputs": [],
   "source": [
    "import matplotlib.pyplot as plt"
   ]
  },
  {
   "cell_type": "code",
   "execution_count": 39,
   "metadata": {},
   "outputs": [
    {
     "data": {
      "image/png": "[encoded data removed]",
      "text/plain": [
       "<Figure size 432x288 with 1 Axes>"
      ]
     },
     "metadata": {
      "needs_background": "light"
     },
     "output_type": "display_data"
    }
   ],
   "source": [
    "x = np.array(cluster_df['x'])\n",
    "y = np.array(cluster_df['y'])\n",
    "\n",
    "fix, ax = plt.subplots()\n",
    "\n",
    "ax.scatter(x, y)\n",
    "ax.scatter(cluster_centroid[0][0], cluster_centroid[0][1], marker = 'x', facecolor='black')\n",
    "ax.scatter(cluster_centroid[1][0], cluster_centroid[1][1], marker = '^', facecolor='red')\n",
    "\n",
    "plt.show()"
   ]
  },
  {
   "cell_type": "markdown",
   "metadata": {},
   "source": [
    "## Visualizing the created clusters"
   ]
  },
  {
   "cell_type": "code",
   "execution_count": 29,
   "metadata": {},
   "outputs": [],
   "source": [
    "df_clsuter1 = cluster_df.loc[clusters[0], ['x','y']]\n",
    "df_cluster2 = cluster_df.loc[clusters[1], ['x','y']]"
   ]
  },
  {
   "cell_type": "code",
   "execution_count": 37,
   "metadata": {},
   "outputs": [
    {
     "data": {
      "image/png": "[encoded data removed]",
      "text/plain": [
       "<Figure size 432x288 with 1 Axes>"
      ]
     },
     "metadata": {
      "needs_background": "light"
     },
     "output_type": "display_data"
    }
   ],
   "source": [
    "x1 = np.array(df_clsuter1['x'])\n",
    "y1 = np.array(df_clsuter1['y'])\n",
    "\n",
    "x2 = np.array(df_cluster2['x'])\n",
    "y2 = np.array(df_cluster2['y'])\n",
    "\n",
    "\n",
    "fix, ax = plt.subplots()\n",
    "\n",
    "ax.scatter(x1, y1, facecolor='pink')\n",
    "ax.scatter(x2, y2, facecolor='blue')\n",
    "\n",
    "ax.scatter(cluster_centroid[0][0], cluster_centroid[0][1], marker = 'x', facecolor='black')\n",
    "ax.scatter(cluster_centroid[1][0], cluster_centroid[1][1], marker='^', facecolor='red')\n",
    "\n",
    "plt.show()"
   ]
  },
  {
   "cell_type": "markdown",
   "metadata": {},
   "source": [
    "## Changes in k means"
   ]
  },
  {
   "cell_type": "code",
   "execution_count": null,
   "metadata": {},
   "outputs": [],
   "source": []
  }
 ],
 "metadata": {
  "kernelspec": {
   "display_name": "Python 3",
   "language": "python",
   "name": "python3"
  },
  "language_info": {
   "codemirror_mode": {
    "name": "ipython",
    "version": 3
   },
   "file_extension": ".py",
   "mimetype": "text/x-python",
   "name": "python",
   "nbconvert_exporter": "python",
   "pygments_lexer": "ipython3",
   "version": "3.6.6"
  }
 },
 "nbformat": 4,
 "nbformat_minor": 2
}
